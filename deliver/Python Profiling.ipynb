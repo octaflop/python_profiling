{
 "cells": [
  {
   "cell_type": "markdown",
   "metadata": {
    "slideshow": {
     "slide_type": "slide"
    }
   },
   "source": [
    "# Python Profiling"
   ]
  },
  {
   "cell_type": "markdown",
   "metadata": {
    "slideshow": {
     "slide_type": "slide"
    }
   },
   "source": [
    "Profiling: Used to find bottlenecks in code"
   ]
  },
  {
   "cell_type": "markdown",
   "metadata": {
    "slideshow": {
     "slide_type": "slide"
    }
   },
   "source": [
    "## Python"
   ]
  },
  {
   "cell_type": "markdown",
   "metadata": {
    "slideshow": {
     "slide_type": "slide"
    }
   },
   "source": [
    "`cProfile`"
   ]
  },
  {
   "cell_type": "code",
   "execution_count": 5,
   "metadata": {
    "slideshow": {
     "slide_type": "skip"
    }
   },
   "outputs": [],
   "source": [
    "some_json = \"\"\"\n",
    "[{\"floors\":[{\"id\":14,\"campus_id\":12,\"campus_name\":\"SweetCandy\",\"building_id\":12,\"building_name\":\"SweetCandy\",\"name\":\"First Floor\",\"description\":\"\"},{\"id\":15,\"campus_id\":12,\"campus_name\":\"SweetCandy\",\"building_id\":12,\"building_name\":\"SweetCandy\",\"name\":\"Mezzanine\",\"description\":null},{\"id\":11,\"campus_id\":12,\"campus_name\":\"SweetCandy\",\"building_id\":12,\"building_name\":\"SweetCandy\",\"name\":\"Second Floor\",\"description\":\"\"}],\"meta\":{\"per_page\":10,\"total\":3,\"filtered_total\":3,\"page\":1,\"page_limit\":100}},{\"floors\":[{\"id\":14,\"campus_id\":12,\"campus_name\":\"SweetCandy\",\"building_id\":12,\"building_name\":\"SweetCandy\",\"name\":\"First Floor\",\"description\":\"\"},{\"id\":15,\"campus_id\":12,\"campus_name\":\"SweetCandy\",\"building_id\":12,\"building_name\":\"SweetCandy\",\"name\":\"Mezzanine\",\"description\":null},{\"id\":11,\"campus_id\":12,\"campus_name\":\"SweetCandy\",\"building_id\":12,\"building_name\":\"SweetCandy\",\"name\":\"Second Floor\",\"description\":\"\"}],\"meta\":{\"per_page\":10,\"total\":3,\"filtered_total\":3,\"page\":1,\"page_limit\":100}},{\"floors\":[{\"id\":14,\"campus_id\":12,\"campus_name\":\"SweetCandy\",\"building_id\":12,\"building_name\":\"SweetCandy\",\"name\":\"First Floor\",\"description\":\"\"},{\"id\":15,\"campus_id\":12,\"campus_name\":\"SweetCandy\",\"building_id\":12,\"building_name\":\"SweetCandy\",\"name\":\"Mezzanine\",\"description\":null},{\"id\":11,\"campus_id\":12,\"campus_name\":\"SweetCandy\",\"building_id\":12,\"building_name\":\"SweetCandy\",\"name\":\"Second Floor\",\"description\":\"\"}],\"meta\":{\"per_page\":10,\"total\":3,\"filtered_total\":3,\"page\":1,\"page_limit\":100}},{\"floors\":[{\"id\":14,\"campus_id\":12,\"campus_name\":\"SweetCandy\",\"building_id\":12,\"building_name\":\"SweetCandy\",\"name\":\"First Floor\",\"description\":\"\"},{\"id\":15,\"campus_id\":12,\"campus_name\":\"SweetCandy\",\"building_id\":12,\"building_name\":\"SweetCandy\",\"name\":\"Mezzanine\",\"description\":null},{\"id\":11,\"campus_id\":12,\"campus_name\":\"SweetCandy\",\"building_id\":12,\"building_name\":\"SweetCandy\",\"name\":\"Second Floor\",\"description\":\"\"}],\"meta\":{\"per_page\":10,\"total\":3,\"filtered_total\":3,\"page\":1,\"page_limit\":100}},{\"floors\":[{\"id\":14,\"campus_id\":12,\"campus_name\":\"SweetCandy\",\"building_id\":12,\"building_name\":\"SweetCandy\",\"name\":\"First Floor\",\"description\":\"\"},{\"id\":15,\"campus_id\":12,\"campus_name\":\"SweetCandy\",\"building_id\":12,\"building_name\":\"SweetCandy\",\"name\":\"Mezzanine\",\"description\":null},{\"id\":11,\"campus_id\":12,\"campus_name\":\"SweetCandy\",\"building_id\":12,\"building_name\":\"SweetCandy\",\"name\":\"Second Floor\",\"description\":\"\"}],\"meta\":{\"per_page\":10,\"total\":3,\"filtered_total\":3,\"page\":1,\"page_limit\":100}},{\"floors\":[{\"id\":14,\"campus_id\":12,\"campus_name\":\"SweetCandy\",\"building_id\":12,\"building_name\":\"SweetCandy\",\"name\":\"First Floor\",\"description\":\"\"},{\"id\":15,\"campus_id\":12,\"campus_name\":\"SweetCandy\",\"building_id\":12,\"building_name\":\"SweetCandy\",\"name\":\"Mezzanine\",\"description\":null},{\"id\":11,\"campus_id\":12,\"campus_name\":\"SweetCandy\",\"building_id\":12,\"building_name\":\"SweetCandy\",\"name\":\"Second Floor\",\"description\":\"\"}],\"meta\":{\"per_page\":10,\"total\":3,\"filtered_total\":3,\"page\":1,\"page_limit\":100}},{\"floors\":[{\"id\":14,\"campus_id\":12,\"campus_name\":\"SweetCandy\",\"building_id\":12,\"building_name\":\"SweetCandy\",\"name\":\"First Floor\",\"description\":\"\"},{\"id\":15,\"campus_id\":12,\"campus_name\":\"SweetCandy\",\"building_id\":12,\"building_name\":\"SweetCandy\",\"name\":\"Mezzanine\",\"description\":null},{\"id\":11,\"campus_id\":12,\"campus_name\":\"SweetCandy\",\"building_id\":12,\"building_name\":\"SweetCandy\",\"name\":\"Second Floor\",\"description\":\"\"}],\"meta\":{\"per_page\":10,\"total\":3,\"filtered_total\":3,\"page\":1,\"page_limit\":100}},{\"floors\":[{\"id\":14,\"campus_id\":12,\"campus_name\":\"SweetCandy\",\"building_id\":12,\"building_name\":\"SweetCandy\",\"name\":\"First Floor\",\"description\":\"\"},{\"id\":15,\"campus_id\":12,\"campus_name\":\"SweetCandy\",\"building_id\":12,\"building_name\":\"SweetCandy\",\"name\":\"Mezzanine\",\"description\":null},{\"id\":11,\"campus_id\":12,\"campus_name\":\"SweetCandy\",\"building_id\":12,\"building_name\":\"SweetCandy\",\"name\":\"Second Floor\",\"description\":\"\"}],\"meta\":{\"per_page\":10,\"total\":3,\"filtered_total\":3,\"page\":1,\"page_limit\":100}}]\n",
    "\"\"\""
   ]
  },
  {
   "cell_type": "code",
   "execution_count": 6,
   "metadata": {
    "slideshow": {
     "slide_type": "fragment"
    }
   },
   "outputs": [
    {
     "name": "stdout",
     "output_type": "stream",
     "text": [
      "         13 function calls in 0.000 seconds\n",
      "\n",
      "   Ordered by: standard name\n",
      "\n",
      "   ncalls  tottime  percall  cumtime  percall filename:lineno(function)\n",
      "        1    0.000    0.000    0.000    0.000 <string>:1(<module>)\n",
      "        1    0.000    0.000    0.000    0.000 __init__.py:302(loads)\n",
      "        1    0.000    0.000    0.000    0.000 decoder.py:334(decode)\n",
      "        1    0.000    0.000    0.000    0.000 decoder.py:345(raw_decode)\n",
      "        1    0.000    0.000    0.000    0.000 {built-in method builtins.exec}\n",
      "        1    0.000    0.000    0.000    0.000 {built-in method builtins.isinstance}\n",
      "        1    0.000    0.000    0.000    0.000 {built-in method builtins.len}\n",
      "        1    0.000    0.000    0.000    0.000 {method 'disable' of '_lsprof.Profiler' objects}\n",
      "        2    0.000    0.000    0.000    0.000 {method 'end' of '_sre.SRE_Match' objects}\n",
      "        2    0.000    0.000    0.000    0.000 {method 'match' of '_sre.SRE_Pattern' objects}\n",
      "        1    0.000    0.000    0.000    0.000 {method 'startswith' of 'str' objects}\n",
      "\n",
      "\n"
     ]
    }
   ],
   "source": [
    "import cProfile\n",
    "\n",
    "import json\n",
    "\n",
    "# some_json = \"[{\"floors\":[{\"id\":14,\"campus_id\":12, ...\n",
    "\n",
    "cProfile.run('json.loads(some_json)')"
   ]
  },
  {
   "cell_type": "code",
   "execution_count": 7,
   "metadata": {
    "slideshow": {
     "slide_type": "slide"
    }
   },
   "outputs": [],
   "source": [
    "# We can also save to a file and render an image\n",
    "filename = 'json_loads'\n",
    "cProfile.run('json.loads(some_json)', filename=f'{filename}.profile')"
   ]
  },
  {
   "cell_type": "code",
   "execution_count": 8,
   "metadata": {
    "slideshow": {
     "slide_type": "fragment"
    }
   },
   "outputs": [
    {
     "data": {
      "text/plain": []
     },
     "execution_count": 8,
     "metadata": {},
     "output_type": "execute_result"
    }
   ],
   "source": [
    "import sh\n",
    "# Convert the .profile -> .dot\n",
    "sh.gprof2dot('-f', 'pstats', '-o', f'{filename}.dot', f'{filename}.profile')"
   ]
  },
  {
   "cell_type": "code",
   "execution_count": 9,
   "metadata": {
    "slideshow": {
     "slide_type": "fragment"
    }
   },
   "outputs": [
    {
     "data": {
      "text/plain": []
     },
     "execution_count": 9,
     "metadata": {},
     "output_type": "execute_result"
    }
   ],
   "source": [
    "# Convert the .dot -> png\n",
    "sh.dot('-T', 'png', f'{filename}.dot', '-o', f'{filename}.png')"
   ]
  },
  {
   "cell_type": "markdown",
   "metadata": {
    "slideshow": {
     "slide_type": "fragment"
    }
   },
   "source": [
    "![profiled image](./json_loads.png)"
   ]
  },
  {
   "cell_type": "markdown",
   "metadata": {
    "slideshow": {
     "slide_type": "slide"
    }
   },
   "source": [
    "![profiled image](./json_loads.png)"
   ]
  },
  {
   "cell_type": "markdown",
   "metadata": {
    "slideshow": {
     "slide_type": "slide"
    }
   },
   "source": [
    "## More Python"
   ]
  },
  {
   "cell_type": "markdown",
   "metadata": {
    "slideshow": {
     "slide_type": "slide"
    }
   },
   "source": [
    "### We only want to measure what we care about."
   ]
  },
  {
   "cell_type": "code",
   "execution_count": 10,
   "metadata": {
    "slideshow": {
     "slide_type": "slide"
    }
   },
   "outputs": [],
   "source": [
    "import random\n",
    "import sh\n",
    "\n",
    "def setup_random_dict():\n",
    "    raw = []\n",
    "    for i in range(20):\n",
    "        rand_foo = random.randint(1, 800)\n",
    "        raw.append({\n",
    "            'foo': f'bar_{rand_foo}',\n",
    "            'id': random.randint(1, 800)\n",
    "        })\n",
    "    ret = json.dumps(raw)\n",
    "    return ret\n",
    "\n",
    "\n",
    "def generate_profile(filename):\n",
    "    cProfile.run('setup_random_dict()', filename=f'{filename}.profile')\n",
    "    # Convert the .profile -> .dot\n",
    "    sh.gprof2dot('-f', 'pstats', '-o', f'{filename}.dot', f'{filename}.profile')\n",
    "    # Convert the .dot -> png\n",
    "    sh.dot('-T', 'png', f'{filename}.dot', '-o', f'{filename}.png')\n",
    "\n",
    "# if __name__ == '__main__:'\n",
    "generate_profile('random_thing')\n"
   ]
  },
  {
   "cell_type": "markdown",
   "metadata": {
    "slideshow": {
     "slide_type": "slide"
    }
   },
   "source": [
    "![random_thing](./random_thing.png)"
   ]
  },
  {
   "cell_type": "markdown",
   "metadata": {
    "slideshow": {
     "slide_type": "slide"
    }
   },
   "source": [
    "### Instead, we separate out the function we want"
   ]
  },
  {
   "cell_type": "code",
   "execution_count": 11,
   "metadata": {},
   "outputs": [],
   "source": [
    "import random\n",
    "import sh\n",
    "\n",
    "def setup_random_dict():\n",
    "    raw = []\n",
    "    for i in range(20):\n",
    "        rand_foo = random.randint(1, 800)\n",
    "        raw.append({\n",
    "            'foo': f'bar_{rand_foo}',\n",
    "            'id': random.randint(1, 800)\n",
    "        })\n",
    "    return raw\n",
    "\n",
    "raw = setup_random_dict()\n",
    "\n",
    "def generate_profile(filename):\n",
    "    cProfile.run('json.dumps(raw)', filename=f'{filename}.profile')\n",
    "    # Convert the .profile -> .dot\n",
    "    sh.gprof2dot('-f', 'pstats', '-o', f'{filename}.dot', f'{filename}.profile')\n",
    "    # Convert the .dot -> png\n",
    "    sh.dot('-T', 'png', f'{filename}.dot', '-o', f'{filename}.png')\n",
    "\n",
    "# if __name__ == '__main__:'\n",
    "generate_profile('just_json')"
   ]
  },
  {
   "cell_type": "markdown",
   "metadata": {
    "slideshow": {
     "slide_type": "fragment"
    }
   },
   "source": [
    "![just json](./just_json.png)"
   ]
  },
  {
   "cell_type": "markdown",
   "metadata": {
    "slideshow": {
     "slide_type": "slide"
    }
   },
   "source": [
    "![just json](./just_json.png)"
   ]
  },
  {
   "cell_type": "markdown",
   "metadata": {
    "slideshow": {
     "slide_type": "slide"
    }
   },
   "source": [
    "## Django\n",
    "### 10x Easier\n",
    "https://pypi.org/project/yet-another-django-profiler/"
   ]
  },
  {
   "cell_type": "markdown",
   "metadata": {
    "slideshow": {
     "slide_type": "slide"
    }
   },
   "source": [
    "Add to middleware:"
   ]
  },
  {
   "cell_type": "code",
   "execution_count": 12,
   "metadata": {
    "slideshow": {
     "slide_type": "fragment"
    }
   },
   "outputs": [],
   "source": [
    "# local_settings.py\n",
    "MIDDLEWARE_CLASSES = () #...\n",
    "MIDDLEWARE_CLASSES += ('yet_another_django_profiler.middleware.ProfilerMiddleware',)"
   ]
  },
  {
   "cell_type": "markdown",
   "metadata": {
    "slideshow": {
     "slide_type": "slide"
    }
   },
   "source": [
    "Now just add `?profile` to a URL!\n",
    "\n",
    "https://ebdevi.io:8000/api/v4/deployment/filter/floors/11/rooms/?profile"
   ]
  },
  {
   "cell_type": "markdown",
   "metadata": {
    "slideshow": {
     "slide_type": "fragment"
    }
   },
   "source": [
    "![profile_example](https://user-images.githubusercontent.com/6115/40940549-63d07bf8-6805-11e8-9417-548e2110722b.png)"
   ]
  },
  {
   "cell_type": "markdown",
   "metadata": {
    "slideshow": {
     "slide_type": "slide"
    }
   },
   "source": [
    "\n",
    "\n",
    "![profile_example](https://user-images.githubusercontent.com/6115/40940549-63d07bf8-6805-11e8-9417-548e2110722b.png)\n"
   ]
  },
  {
   "cell_type": "markdown",
   "metadata": {
    "slideshow": {
     "slide_type": "slide"
    }
   },
   "source": [
    "## Thanks\n",
    "\n",
    "### Special Thanks to: Jason"
   ]
  }
 ],
 "metadata": {
  "celltoolbar": "Slideshow",
  "kernelspec": {
   "display_name": "Python 3",
   "language": "python",
   "name": "python3"
  },
  "language_info": {
   "codemirror_mode": {
    "name": "ipython",
    "version": 3
   },
   "file_extension": ".py",
   "mimetype": "text/x-python",
   "name": "python",
   "nbconvert_exporter": "python",
   "pygments_lexer": "ipython3",
   "version": "3.6.5"
  }
 },
 "nbformat": 4,
 "nbformat_minor": 2
}
